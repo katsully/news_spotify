{
 "cells": [
  {
   "cell_type": "code",
   "execution_count": null,
   "id": "db053099",
   "metadata": {},
   "outputs": [],
   "source": [
    "# import libraries\n",
    "import spotipy\n",
    "import webbrowser\n",
    "import json\n",
    "import urllib.request\n",
    "import geocoder\n",
    "from nltk.corpus import stopwords\n",
    "import spotipy.util as util\n",
    "import random"
   ]
  },
  {
   "cell_type": "code",
   "execution_count": null,
   "id": "5f700c5e",
   "metadata": {},
   "outputs": [],
   "source": [
    "# the variable key now contains my API key\n",
    "with open(\"news_key.txt\", \"r\") as file:\n",
    "    key = file.read()"
   ]
  },
  {
   "cell_type": "code",
   "execution_count": null,
   "id": "530cc08d",
   "metadata": {},
   "outputs": [],
   "source": [
    "# this is the url for the news api\n",
    "url = 'https://newsapi.org/v2/top-headlines?country=us&apiKey=' + key"
   ]
  },
  {
   "cell_type": "code",
   "execution_count": null,
   "id": "24d2b6a7",
   "metadata": {},
   "outputs": [],
   "source": [
    "# request is when im asking for data\n",
    "request = urllib.request.Request(url)\n",
    "# response is the answer i get for asking for data\n",
    "response = urllib.request.urlopen(request)"
   ]
  },
  {
   "cell_type": "code",
   "execution_count": null,
   "id": "6cc4315f",
   "metadata": {},
   "outputs": [],
   "source": [
    "# i didn't remember what data type response is - so i printed it!\n",
    "type(response)"
   ]
  },
  {
   "cell_type": "code",
   "execution_count": null,
   "id": "1e0b1796",
   "metadata": {},
   "outputs": [],
   "source": [
    "# converting the HTTPResponse object to a python dictionary\n",
    "headlines = json.loads(response.read())"
   ]
  },
  {
   "cell_type": "code",
   "execution_count": null,
   "id": "04d94c24",
   "metadata": {},
   "outputs": [],
   "source": [
    "headlines"
   ]
  },
  {
   "cell_type": "code",
   "execution_count": null,
   "id": "379bcfa1",
   "metadata": {},
   "outputs": [],
   "source": [
    "# make an empty list of my titles\n",
    "article_titles = []\n",
    "for headline in headlines['articles']:\n",
    "    article_titles.append(headline['title'])"
   ]
  },
  {
   "cell_type": "code",
   "execution_count": null,
   "id": "b3a72f7b",
   "metadata": {},
   "outputs": [],
   "source": [
    "article_titles"
   ]
  },
  {
   "cell_type": "code",
   "execution_count": null,
   "id": "b6b9d934",
   "metadata": {},
   "outputs": [],
   "source": [
    "# go through each title/headline\n",
    "for headline in article_titles:\n",
    "    # i want to go through each word of each title"
   ]
  },
  {
   "cell_type": "code",
   "execution_count": null,
   "id": "a309a3a7",
   "metadata": {},
   "outputs": [],
   "source": [
    "# an example where we isolate the first headline\n",
    "article_titles[0]\n",
    "for word in article_titles[0].lower().split(\" \"):\n",
    "    # is the word not a stopword?\n",
    "    # is the word not a number?\n",
    "    if word not in stopwords.words('english') and word.isalpha():\n",
    "        print(word)"
   ]
  },
  {
   "cell_type": "code",
   "execution_count": null,
   "id": "6a0e83f0",
   "metadata": {},
   "outputs": [],
   "source": [
    "list_of_words = []\n",
    "# go through each title\n",
    "for title in article_titles:\n",
    "    # go through each word\n",
    "    for word in title.lower().split(\" \"):\n",
    "        # is the word not a stopword?\n",
    "        # is the word not a number?\n",
    "        if word not in stopwords.words('english') and word.isalpha():\n",
    "            list_of_words.append(word)"
   ]
  },
  {
   "cell_type": "code",
   "execution_count": null,
   "id": "cd7b2001",
   "metadata": {},
   "outputs": [],
   "source": [
    "# printing out the dictionary of words based on frequency\n",
    "dict_of_words"
   ]
  },
  {
   "cell_type": "code",
   "execution_count": null,
   "id": "0a8c8766",
   "metadata": {},
   "outputs": [],
   "source": [
    "# open file with keys and set the path to your credentials JSON file\n",
    "credentials = \"spotify_keys.json\"\n",
    "with open(credentials, \"r\") as keys:\n",
    "    api_tokens = json.load(keys)"
   ]
  },
  {
   "cell_type": "code",
   "execution_count": null,
   "id": "94a21617",
   "metadata": {},
   "outputs": [],
   "source": [
    "api_tokens"
   ]
  },
  {
   "cell_type": "code",
   "execution_count": null,
   "id": "c353e4d8",
   "metadata": {},
   "outputs": [],
   "source": [
    "client_id = api_tokens[\"client_id\"]\n",
    "client_secret = api_tokens[\"client_secret\"]\n",
    "redirectURI = api_tokens[\"redirect\"]\n",
    "username = api_tokens[\"username\"]"
   ]
  },
  {
   "cell_type": "code",
   "execution_count": null,
   "id": "e854f20e",
   "metadata": {},
   "outputs": [],
   "source": [
    "scope = 'user-read-private user-read-playback-state user-modify-playback-state playlist-modify-public user-library-read'\n",
    "token = util.prompt_for_user_token(username, scope, client_id=client_id,\n",
    "                           client_secret=client_secret,\n",
    "                           redirect_uri=redirectURI)"
   ]
  },
  {
   "cell_type": "code",
   "execution_count": null,
   "id": "17c8394d",
   "metadata": {},
   "outputs": [],
   "source": [
    "# print out token\n",
    "token"
   ]
  },
  {
   "cell_type": "code",
   "execution_count": null,
   "id": "4c4a3577",
   "metadata": {},
   "outputs": [],
   "source": [
    "# create my Spotify object\n",
    "sp = spotipy.Spotify(auth=token)"
   ]
  },
  {
   "cell_type": "code",
   "execution_count": null,
   "id": "e12d3855",
   "metadata": {},
   "outputs": [],
   "source": [
    "list_of_words = list(dict_of_words.keys)"
   ]
  },
  {
   "cell_type": "code",
   "execution_count": null,
   "id": "f9f2c0c4",
   "metadata": {},
   "outputs": [],
   "source": [
    "random.choice(list_of_words)"
   ]
  },
  {
   "cell_type": "code",
   "execution_count": null,
   "id": "15a7a5e1",
   "metadata": {},
   "outputs": [],
   "source": [
    "# start a list of songs for my headline playlist\n",
    "songs_for_playlist = []\n",
    "# have for loop run 50 times\n",
    "for keyword in range(48):\n",
    "    # pick a random keyword\n",
    "    new_keyword = random.choice(list_of_words)\n",
    "    # search for artists based on my keyword, only give me one artist\n",
    "    searchResults = sp.search(q=\"artist:\" + new_keyword, type=\"track\", limit=1)\n",
    "    # if the search returns anything\n",
    "    if len(searchResults['tracks']['items']) > 0:\n",
    "        songs_for_playlist.append(searchResults['tracks']['items'][0]['uri'])\n",
    "    \n",
    "print(songs_for_playlist)"
   ]
  },
  {
   "cell_type": "code",
   "execution_count": null,
   "id": "1c793e88",
   "metadata": {},
   "outputs": [],
   "source": [
    "searchResults = sp.search(q=\"artist:\" + \"dylan\", type=\"track\", limit=1)\n",
    "searchResults['tracks']['items'][0]['uri']"
   ]
  },
  {
   "cell_type": "code",
   "execution_count": null,
   "id": "caee723e",
   "metadata": {},
   "outputs": [],
   "source": [
    "my_playlist = sp.user_playlist_create(user=username, name=\"Todays News\", public=True,\n",
    "                                      description=\"Songs for the news\")\n",
    "results = sp.user_playlist_add_tracks(username, my_playlist['id'], songs_for_playlist)\n",
    "print(results)"
   ]
  },
  {
   "cell_type": "code",
   "execution_count": null,
   "id": "f46ba146",
   "metadata": {},
   "outputs": [],
   "source": [
    "webbrowser.open(my_playlist['external_urls']['spotify'])"
   ]
  }
 ],
 "metadata": {
  "kernelspec": {
   "display_name": "Python 3 (ipykernel)",
   "language": "python",
   "name": "python3"
  },
  "language_info": {
   "codemirror_mode": {
    "name": "ipython",
    "version": 3
   },
   "file_extension": ".py",
   "mimetype": "text/x-python",
   "name": "python",
   "nbconvert_exporter": "python",
   "pygments_lexer": "ipython3",
   "version": "3.7.9"
  }
 },
 "nbformat": 4,
 "nbformat_minor": 5
}
